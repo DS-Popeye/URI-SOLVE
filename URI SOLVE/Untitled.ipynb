{
 "cells": [
  {
   "cell_type": "code",
   "execution_count": 3,
   "metadata": {},
   "outputs": [
    {
     "name": "stdout",
     "output_type": "stream",
     "text": [
      "<class 'int'>3\n",
      "<class 'int'>2\n",
      "10.0\n"
     ]
    }
   ],
   "source": [
    "X = input(int)\n",
    "Y = input(int)\n",
    "if(X == 1):\n",
    "    Price = (float) (4.00 * Y)\n",
    "elif(X == 2):\n",
    "    Price = (float) (4.50 * Y)\n",
    "elif (X == 3):\n",
    "    Price = (float)(5.00 * Y)\n",
    "elif(X == 4):\n",
    "    Price = (float) (2.00 * Y)\n",
    "elif(X == 5):\n",
    "    Price = (float) (1.50 * Y)\n",
    "print(Price)"
   ]
  },
  {
   "cell_type": "code",
   "execution_count": null,
   "metadata": {},
   "outputs": [],
   "source": []
  }
 ],
 "metadata": {
  "kernelspec": {
   "display_name": "Python 3",
   "language": "python",
   "name": "python3"
  },
  "language_info": {
   "codemirror_mode": {
    "name": "ipython",
    "version": 3
   },
   "file_extension": ".py",
   "mimetype": "text/x-python",
   "name": "python",
   "nbconvert_exporter": "python",
   "pygments_lexer": "ipython3",
   "version": "3.8.5"
  }
 },
 "nbformat": 4,
 "nbformat_minor": 4
}
